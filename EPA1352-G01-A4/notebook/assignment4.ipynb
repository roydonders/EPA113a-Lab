{
 "cells": [
  {
   "cell_type": "code",
   "execution_count": 3,
   "id": "initial_id",
   "metadata": {
    "collapsed": true,
    "ExecuteTime": {
     "end_time": "2024-03-25T15:51:47.699863900Z",
     "start_time": "2024-03-25T15:51:47.586776800Z"
    }
   },
   "outputs": [
    {
     "data": {
      "text/plain": "<folium.folium.Map at 0x256557771d0>",
      "text/html": "<div style=\"width:100%;\"><div style=\"position:relative;width:100%;height:0;padding-bottom:60%;\"><span style=\"color:#565656\">Make this Notebook Trusted to load map: File -> Trust Notebook</span><iframe srcdoc=\"&lt;!DOCTYPE html&gt;\n&lt;html&gt;\n&lt;head&gt;\n    \n    &lt;meta http-equiv=&quot;content-type&quot; content=&quot;text/html; charset=UTF-8&quot; /&gt;\n    \n        &lt;script&gt;\n            L_NO_TOUCH = false;\n            L_DISABLE_3D = false;\n        &lt;/script&gt;\n    \n    &lt;style&gt;html, body {width: 100%;height: 100%;margin: 0;padding: 0;}&lt;/style&gt;\n    &lt;style&gt;#map {position:absolute;top:0;bottom:0;right:0;left:0;}&lt;/style&gt;\n    &lt;script src=&quot;https://cdn.jsdelivr.net/npm/leaflet@1.9.3/dist/leaflet.js&quot;&gt;&lt;/script&gt;\n    &lt;script src=&quot;https://code.jquery.com/jquery-3.7.1.min.js&quot;&gt;&lt;/script&gt;\n    &lt;script src=&quot;https://cdn.jsdelivr.net/npm/bootstrap@5.2.2/dist/js/bootstrap.bundle.min.js&quot;&gt;&lt;/script&gt;\n    &lt;script src=&quot;https://cdnjs.cloudflare.com/ajax/libs/Leaflet.awesome-markers/2.0.2/leaflet.awesome-markers.js&quot;&gt;&lt;/script&gt;\n    &lt;link rel=&quot;stylesheet&quot; href=&quot;https://cdn.jsdelivr.net/npm/leaflet@1.9.3/dist/leaflet.css&quot;/&gt;\n    &lt;link rel=&quot;stylesheet&quot; href=&quot;https://cdn.jsdelivr.net/npm/bootstrap@5.2.2/dist/css/bootstrap.min.css&quot;/&gt;\n    &lt;link rel=&quot;stylesheet&quot; href=&quot;https://netdna.bootstrapcdn.com/bootstrap/3.0.0/css/bootstrap.min.css&quot;/&gt;\n    &lt;link rel=&quot;stylesheet&quot; href=&quot;https://cdn.jsdelivr.net/npm/@fortawesome/fontawesome-free@6.2.0/css/all.min.css&quot;/&gt;\n    &lt;link rel=&quot;stylesheet&quot; href=&quot;https://cdnjs.cloudflare.com/ajax/libs/Leaflet.awesome-markers/2.0.2/leaflet.awesome-markers.css&quot;/&gt;\n    &lt;link rel=&quot;stylesheet&quot; href=&quot;https://cdn.jsdelivr.net/gh/python-visualization/folium/folium/templates/leaflet.awesome.rotate.min.css&quot;/&gt;\n    \n            &lt;meta name=&quot;viewport&quot; content=&quot;width=device-width,\n                initial-scale=1.0, maximum-scale=1.0, user-scalable=no&quot; /&gt;\n            &lt;style&gt;\n                #map_1dd492fd6745a97335e1e4e5465bd424 {\n                    position: relative;\n                    width: 100.0%;\n                    height: 100.0%;\n                    left: 0.0%;\n                    top: 0.0%;\n                }\n                .leaflet-container { font-size: 1rem; }\n            &lt;/style&gt;\n        \n&lt;/head&gt;\n&lt;body&gt;\n    \n    \n            &lt;div class=&quot;folium-map&quot; id=&quot;map_1dd492fd6745a97335e1e4e5465bd424&quot; &gt;&lt;/div&gt;\n        \n&lt;/body&gt;\n&lt;script&gt;\n    \n    \n            var map_1dd492fd6745a97335e1e4e5465bd424 = L.map(\n                &quot;map_1dd492fd6745a97335e1e4e5465bd424&quot;,\n                {\n                    center: [23.685, 90.356],\n                    crs: L.CRS.EPSG3857,\n                    zoom: 7,\n                    zoomControl: true,\n                    preferCanvas: false,\n                }\n            );\n\n            \n\n        \n    \n            var tile_layer_34b4ef102600618a027d2c66e39dc0f7 = L.tileLayer(\n                &quot;https://tile.openstreetmap.org/{z}/{x}/{y}.png&quot;,\n                {&quot;attribution&quot;: &quot;\\u0026copy; \\u003ca href=\\&quot;https://www.openstreetmap.org/copyright\\&quot;\\u003eOpenStreetMap\\u003c/a\\u003e contributors&quot;, &quot;detectRetina&quot;: false, &quot;maxNativeZoom&quot;: 19, &quot;maxZoom&quot;: 19, &quot;minZoom&quot;: 0, &quot;noWrap&quot;: false, &quot;opacity&quot;: 1, &quot;subdomains&quot;: &quot;abc&quot;, &quot;tms&quot;: false}\n            );\n        \n    \n            tile_layer_34b4ef102600618a027d2c66e39dc0f7.addTo(map_1dd492fd6745a97335e1e4e5465bd424);\n        \n    \n            var marker_d6ee9e15ec9830da7616cefedf75c126 = L.marker(\n                [23.8251, 90.3686],\n                {}\n            ).addTo(map_1dd492fd6745a97335e1e4e5465bd424);\n        \n    \n            var icon_4065a1d261c8a8340b7f889ba50815de = L.AwesomeMarkers.icon(\n                {&quot;extraClasses&quot;: &quot;fa-rotate-0&quot;, &quot;icon&quot;: &quot;info-sign&quot;, &quot;iconColor&quot;: &quot;white&quot;, &quot;markerColor&quot;: &quot;blue&quot;, &quot;prefix&quot;: &quot;glyphicon&quot;}\n            );\n            marker_b82330c933a9d5836f79296c3b080310.setIcon(icon_4065a1d261c8a8340b7f889ba50815de);\n        \n    \n        var popup_c9c95f87761dd39f7485e3f4c0e52af2 = L.popup({&quot;maxWidth&quot;: &quot;100%&quot;});\n\n        \n            \n                var html_1ddf21ddee5e7edec9838db875b0acd5 = $(`&lt;div id=&quot;html_1ddf21ddee5e7edec9838db875b0acd5&quot; style=&quot;width: 100.0%; height: 100.0%;&quot;&gt;Padma Bridge&lt;/div&gt;`)[0];\n                popup_c9c95f87761dd39f7485e3f4c0e52af2.setContent(html_1ddf21ddee5e7edec9838db875b0acd5);\n            \n        \n\n        marker_d6ee9e15ec9830da7616cefedf75c126.bindPopup(popup_c9c95f87761dd39f7485e3f4c0e52af2)\n        ;\n\n        \n    \n    \n            var marker_46a4f671701cd471c5b70d31eb6d9f40 = L.marker(\n                [24.0794, 89.6529],\n                {}\n            ).addTo(map_1dd492fd6745a97335e1e4e5465bd424);\n        \n    \n        var popup_e27fd1b3b3c702052980315248faa594 = L.popup({&quot;maxWidth&quot;: &quot;100%&quot;});\n\n        \n            \n                var html_094281d49a9105e0d3ee0c9f3b7aff70 = $(`&lt;div id=&quot;html_094281d49a9105e0d3ee0c9f3b7aff70&quot; style=&quot;width: 100.0%; height: 100.0%;&quot;&gt;Bangabandhu Bridge&lt;/div&gt;`)[0];\n                popup_e27fd1b3b3c702052980315248faa594.setContent(html_094281d49a9105e0d3ee0c9f3b7aff70);\n            \n        \n\n        marker_46a4f671701cd471c5b70d31eb6d9f40.bindPopup(popup_e27fd1b3b3c702052980315248faa594)\n        ;\n\n        \n    \n    \n            var marker_50b96faf62892c24505a50e53e696e30 = L.marker(\n                [24.4366, 89.893],\n                {}\n            ).addTo(map_1dd492fd6745a97335e1e4e5465bd424);\n        \n    \n        var popup_1dbbab2bb9d854b3828c7e9ff04a9a11 = L.popup({&quot;maxWidth&quot;: &quot;100%&quot;});\n\n        \n            \n                var html_0157a25ab2e6e576e591e793eab70cf4 = $(`&lt;div id=&quot;html_0157a25ab2e6e576e591e793eab70cf4&quot; style=&quot;width: 100.0%; height: 100.0%;&quot;&gt;Jamuna Bridge&lt;/div&gt;`)[0];\n                popup_1dbbab2bb9d854b3828c7e9ff04a9a11.setContent(html_0157a25ab2e6e576e591e793eab70cf4);\n            \n        \n\n        marker_50b96faf62892c24505a50e53e696e30.bindPopup(popup_1dbbab2bb9d854b3828c7e9ff04a9a11)\n        ;\n\n        \n    \n    \n            var marker_b82330c933a9d5836f79296c3b080310 = L.marker(\n                [23.0238, 90.7287],\n                {}\n            ).addTo(map_1dd492fd6745a97335e1e4e5465bd424);\n        \n    \n        var popup_ceaa2c8390d6b066a0e3f97e819fe8e2 = L.popup({&quot;maxWidth&quot;: &quot;100%&quot;});\n\n        \n            \n                var html_2339bcf18d0ad9847962d20445af7c2c = $(`&lt;div id=&quot;html_2339bcf18d0ad9847962d20445af7c2c&quot; style=&quot;width: 100.0%; height: 100.0%;&quot;&gt;Meghna Bridge&lt;/div&gt;`)[0];\n                popup_ceaa2c8390d6b066a0e3f97e819fe8e2.setContent(html_2339bcf18d0ad9847962d20445af7c2c);\n            \n        \n\n        marker_b82330c933a9d5836f79296c3b080310.bindPopup(popup_ceaa2c8390d6b066a0e3f97e819fe8e2)\n        ;\n\n        \n    \n&lt;/script&gt;\n&lt;/html&gt;\" style=\"position:absolute;width:100%;height:100%;left:0;top:0;border:none !important;\" allowfullscreen webkitallowfullscreen mozallowfullscreen></iframe></div></div>"
     },
     "execution_count": 3,
     "metadata": {},
     "output_type": "execute_result"
    }
   ],
   "source": [
    "import folium\n",
    "\n",
    "# Coordinates for Bangladesh\n",
    "bd_coordinates = (23.685, 90.356)\n",
    "\n",
    "# Create a map centered around Bangladesh with OpenStreetMap tileset\n",
    "bd_map = folium.Map(location=bd_coordinates, zoom_start=7, tiles='OpenStreetMap')\n",
    "\n",
    "# Custom icon for the bridges\n",
    "icon = folium.Icon(color=\"blue\", icon=\"info-sign\")\n",
    "\n",
    "# Coordinates of important bridges in Bangladesh\n",
    "bridges = {\n",
    "    \"Padma Bridge\": (23.8251, 90.3686),\n",
    "    \"Bangabandhu Bridge\": (24.0794, 89.6529),\n",
    "    \"Jamuna Bridge\": (24.4366, 89.8930),\n",
    "    \"Meghna Bridge\": (23.0238, 90.7287)\n",
    "}\n",
    "\n",
    "# Add markers for each bridge with customized icons\n",
    "for bridge, coords in bridges.items():\n",
    "    folium.Marker(location=coords, popup=bridge, icon=icon).add_to(bd_map)\n",
    "\n",
    "# Display the map\n",
    "bd_map\n",
    "\n"
   ]
  },
  {
   "cell_type": "code",
   "outputs": [
    {
     "name": "stdout",
     "output_type": "stream",
     "text": [
      "Hello world\n"
     ]
    }
   ],
   "source": [
    "print('Hello world')"
   ],
   "metadata": {
    "collapsed": false,
    "ExecuteTime": {
     "end_time": "2024-03-27T10:05:37.670612600Z",
     "start_time": "2024-03-27T10:05:37.662055400Z"
    }
   },
   "id": "713ecd88f0a55cca",
   "execution_count": 2
  },
  {
   "cell_type": "code",
   "outputs": [
    {
     "name": "stdout",
     "output_type": "stream",
     "text": [
      "test\n"
     ]
    }
   ],
   "source": [
    "print('test')"
   ],
   "metadata": {
    "collapsed": false,
    "ExecuteTime": {
     "end_time": "2024-03-27T10:05:42.640190300Z",
     "start_time": "2024-03-27T10:05:42.615057600Z"
    }
   },
   "id": "a83d71c3e6a43804",
   "execution_count": 3
  },
  {
   "cell_type": "code",
   "outputs": [],
   "source": [],
   "metadata": {
    "collapsed": false
   },
   "id": "15627bb196ac52a"
  }
 ],
 "metadata": {
  "kernelspec": {
   "display_name": "Python 3",
   "language": "python",
   "name": "python3"
  },
  "language_info": {
   "codemirror_mode": {
    "name": "ipython",
    "version": 2
   },
   "file_extension": ".py",
   "mimetype": "text/x-python",
   "name": "python",
   "nbconvert_exporter": "python",
   "pygments_lexer": "ipython2",
   "version": "2.7.6"
  }
 },
 "nbformat": 4,
 "nbformat_minor": 5
}
