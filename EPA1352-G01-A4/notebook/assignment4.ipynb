{
 "cells": [
  {
   "cell_type": "code",
   "outputs": [
    {
     "data": {
      "text/plain": "<folium.folium.Map at 0x1f8faa2d5d0>",
      "text/html": "<div style=\"width:100%;\"><div style=\"position:relative;width:100%;height:0;padding-bottom:60%;\"><span style=\"color:#565656\">Make this Notebook Trusted to load map: File -> Trust Notebook</span><iframe srcdoc=\"&lt;!DOCTYPE html&gt;\n&lt;html&gt;\n&lt;head&gt;\n    \n    &lt;meta http-equiv=&quot;content-type&quot; content=&quot;text/html; charset=UTF-8&quot; /&gt;\n    \n        &lt;script&gt;\n            L_NO_TOUCH = false;\n            L_DISABLE_3D = false;\n        &lt;/script&gt;\n    \n    &lt;style&gt;html, body {width: 100%;height: 100%;margin: 0;padding: 0;}&lt;/style&gt;\n    &lt;style&gt;#map {position:absolute;top:0;bottom:0;right:0;left:0;}&lt;/style&gt;\n    &lt;script src=&quot;https://cdn.jsdelivr.net/npm/leaflet@1.9.3/dist/leaflet.js&quot;&gt;&lt;/script&gt;\n    &lt;script src=&quot;https://code.jquery.com/jquery-3.7.1.min.js&quot;&gt;&lt;/script&gt;\n    &lt;script src=&quot;https://cdn.jsdelivr.net/npm/bootstrap@5.2.2/dist/js/bootstrap.bundle.min.js&quot;&gt;&lt;/script&gt;\n    &lt;script src=&quot;https://cdnjs.cloudflare.com/ajax/libs/Leaflet.awesome-markers/2.0.2/leaflet.awesome-markers.js&quot;&gt;&lt;/script&gt;\n    &lt;link rel=&quot;stylesheet&quot; href=&quot;https://cdn.jsdelivr.net/npm/leaflet@1.9.3/dist/leaflet.css&quot;/&gt;\n    &lt;link rel=&quot;stylesheet&quot; href=&quot;https://cdn.jsdelivr.net/npm/bootstrap@5.2.2/dist/css/bootstrap.min.css&quot;/&gt;\n    &lt;link rel=&quot;stylesheet&quot; href=&quot;https://netdna.bootstrapcdn.com/bootstrap/3.0.0/css/bootstrap.min.css&quot;/&gt;\n    &lt;link rel=&quot;stylesheet&quot; href=&quot;https://cdn.jsdelivr.net/npm/@fortawesome/fontawesome-free@6.2.0/css/all.min.css&quot;/&gt;\n    &lt;link rel=&quot;stylesheet&quot; href=&quot;https://cdnjs.cloudflare.com/ajax/libs/Leaflet.awesome-markers/2.0.2/leaflet.awesome-markers.css&quot;/&gt;\n    &lt;link rel=&quot;stylesheet&quot; href=&quot;https://cdn.jsdelivr.net/gh/python-visualization/folium/folium/templates/leaflet.awesome.rotate.min.css&quot;/&gt;\n    \n            &lt;meta name=&quot;viewport&quot; content=&quot;width=device-width,\n                initial-scale=1.0, maximum-scale=1.0, user-scalable=no&quot; /&gt;\n            &lt;style&gt;\n                #map_222eb655cddd04afb56e0ef7a53fb966 {\n                    position: relative;\n                    width: 100.0%;\n                    height: 100.0%;\n                    left: 0.0%;\n                    top: 0.0%;\n                }\n                .leaflet-container { font-size: 1rem; }\n            &lt;/style&gt;\n        \n&lt;/head&gt;\n&lt;body&gt;\n    \n    \n            &lt;div class=&quot;folium-map&quot; id=&quot;map_222eb655cddd04afb56e0ef7a53fb966&quot; &gt;&lt;/div&gt;\n        \n&lt;/body&gt;\n&lt;script&gt;\n    \n    \n            var map_222eb655cddd04afb56e0ef7a53fb966 = L.map(\n                &quot;map_222eb655cddd04afb56e0ef7a53fb966&quot;,\n                {\n                    center: [23.685, 90.356],\n                    crs: L.CRS.EPSG3857,\n                    zoom: 7,\n                    zoomControl: true,\n                    preferCanvas: false,\n                }\n            );\n\n            \n\n        \n    \n            var tile_layer_a92e0509a20cebcad8d3b203babd98e7 = L.tileLayer(\n                &quot;https://tile.openstreetmap.org/{z}/{x}/{y}.png&quot;,\n                {&quot;attribution&quot;: &quot;\\u0026copy; \\u003ca href=\\&quot;https://www.openstreetmap.org/copyright\\&quot;\\u003eOpenStreetMap\\u003c/a\\u003e contributors&quot;, &quot;detectRetina&quot;: false, &quot;maxNativeZoom&quot;: 19, &quot;maxZoom&quot;: 19, &quot;minZoom&quot;: 0, &quot;noWrap&quot;: false, &quot;opacity&quot;: 1, &quot;subdomains&quot;: &quot;abc&quot;, &quot;tms&quot;: false}\n            );\n        \n    \n            tile_layer_a92e0509a20cebcad8d3b203babd98e7.addTo(map_222eb655cddd04afb56e0ef7a53fb966);\n        \n    \n            var marker_6be7832ae49d907f262eabc21b6bc303 = L.marker(\n                [23.8251, 90.3686],\n                {}\n            ).addTo(map_222eb655cddd04afb56e0ef7a53fb966);\n        \n    \n            var icon_d600c762dfb3f15ecb535970b06ac6bb = L.AwesomeMarkers.icon(\n                {&quot;extraClasses&quot;: &quot;fa-rotate-0&quot;, &quot;icon&quot;: &quot;info-sign&quot;, &quot;iconColor&quot;: &quot;white&quot;, &quot;markerColor&quot;: &quot;blue&quot;, &quot;prefix&quot;: &quot;glyphicon&quot;}\n            );\n            marker_eee050b30119b266f97680b3c74ce97f.setIcon(icon_d600c762dfb3f15ecb535970b06ac6bb);\n        \n    \n        var popup_b14d089065abe9df9e4650b34b886b55 = L.popup({&quot;maxWidth&quot;: &quot;100%&quot;});\n\n        \n            \n                var html_887c23af7a09b796eca2f426b0729407 = $(`&lt;div id=&quot;html_887c23af7a09b796eca2f426b0729407&quot; style=&quot;width: 100.0%; height: 100.0%;&quot;&gt;Padma Bridge&lt;/div&gt;`)[0];\n                popup_b14d089065abe9df9e4650b34b886b55.setContent(html_887c23af7a09b796eca2f426b0729407);\n            \n        \n\n        marker_6be7832ae49d907f262eabc21b6bc303.bindPopup(popup_b14d089065abe9df9e4650b34b886b55)\n        ;\n\n        \n    \n    \n            var marker_53231ae2f03a4a146f4e5c2d0da64d2c = L.marker(\n                [24.0794, 89.6529],\n                {}\n            ).addTo(map_222eb655cddd04afb56e0ef7a53fb966);\n        \n    \n        var popup_ca1f02304e10f5f6ee1b2b71d5306dbb = L.popup({&quot;maxWidth&quot;: &quot;100%&quot;});\n\n        \n            \n                var html_b66780f2f5e80045651ce868ad771930 = $(`&lt;div id=&quot;html_b66780f2f5e80045651ce868ad771930&quot; style=&quot;width: 100.0%; height: 100.0%;&quot;&gt;Bangabandhu Bridge&lt;/div&gt;`)[0];\n                popup_ca1f02304e10f5f6ee1b2b71d5306dbb.setContent(html_b66780f2f5e80045651ce868ad771930);\n            \n        \n\n        marker_53231ae2f03a4a146f4e5c2d0da64d2c.bindPopup(popup_ca1f02304e10f5f6ee1b2b71d5306dbb)\n        ;\n\n        \n    \n    \n            var marker_57cff3798d103f43e305c73779d93428 = L.marker(\n                [24.4366, 89.893],\n                {}\n            ).addTo(map_222eb655cddd04afb56e0ef7a53fb966);\n        \n    \n        var popup_da544d907aa7b607e0ab74f01550acee = L.popup({&quot;maxWidth&quot;: &quot;100%&quot;});\n\n        \n            \n                var html_6d703b6b27ae11468edba7c556f7b845 = $(`&lt;div id=&quot;html_6d703b6b27ae11468edba7c556f7b845&quot; style=&quot;width: 100.0%; height: 100.0%;&quot;&gt;Jamuna Bridge&lt;/div&gt;`)[0];\n                popup_da544d907aa7b607e0ab74f01550acee.setContent(html_6d703b6b27ae11468edba7c556f7b845);\n            \n        \n\n        marker_57cff3798d103f43e305c73779d93428.bindPopup(popup_da544d907aa7b607e0ab74f01550acee)\n        ;\n\n        \n    \n    \n            var marker_eee050b30119b266f97680b3c74ce97f = L.marker(\n                [23.0238, 90.7287],\n                {}\n            ).addTo(map_222eb655cddd04afb56e0ef7a53fb966);\n        \n    \n        var popup_ed46f04a0fe3d44f52bc874939e32273 = L.popup({&quot;maxWidth&quot;: &quot;100%&quot;});\n\n        \n            \n                var html_93ec27a7005e17331f6dbe2112455e12 = $(`&lt;div id=&quot;html_93ec27a7005e17331f6dbe2112455e12&quot; style=&quot;width: 100.0%; height: 100.0%;&quot;&gt;Meghna Bridge&lt;/div&gt;`)[0];\n                popup_ed46f04a0fe3d44f52bc874939e32273.setContent(html_93ec27a7005e17331f6dbe2112455e12);\n            \n        \n\n        marker_eee050b30119b266f97680b3c74ce97f.bindPopup(popup_ed46f04a0fe3d44f52bc874939e32273)\n        ;\n\n        \n    \n&lt;/script&gt;\n&lt;/html&gt;\" style=\"position:absolute;width:100%;height:100%;left:0;top:0;border:none !important;\" allowfullscreen webkitallowfullscreen mozallowfullscreen></iframe></div></div>"
     },
     "execution_count": 7,
     "metadata": {},
     "output_type": "execute_result"
    }
   ],
   "source": [
    "import folium\n",
    "import os\n",
    "import pandas as pd\n",
    "import lxml\n",
    "import matplotlib.pyplot as plt\n",
    "import numpy as np\n",
    "\n",
    "# Sample code\n",
    "# Coordinates for Bangladesh\n",
    "bd_coordinates = (23.685, 90.356)\n",
    "\n",
    "# Create a map centered around Bangladesh with OpenStreetMap tileset\n",
    "bd_map = folium.Map(location=bd_coordinates, zoom_start=7, tiles='OpenStreetMap')\n",
    "\n",
    "# Custom icon for the bridges\n",
    "icon = folium.Icon(color=\"blue\", icon=\"info-sign\")\n",
    "\n",
    "# Coordinates of important bridges in Bangladesh\n",
    "bridges = {\n",
    "    \"Padma Bridge\": (23.8251, 90.3686),\n",
    "    \"Bangabandhu Bridge\": (24.0794, 89.6529),\n",
    "    \"Jamuna Bridge\": (24.4366, 89.8930),\n",
    "    \"Meghna Bridge\": (23.0238, 90.7287)\n",
    "}\n",
    "\n",
    "# Add markers for each bridge with customized icons\n",
    "for bridge, coords in bridges.items():\n",
    "    folium.Marker(location=coords, popup=bridge, icon=icon).add_to(bd_map)\n",
    "\n",
    "# Display the map\n",
    "bd_map\n",
    "\n"
   ],
   "metadata": {
    "collapsed": false,
    "ExecuteTime": {
     "end_time": "2024-03-27T11:23:53.306674400Z",
     "start_time": "2024-03-27T11:23:51.319571200Z"
    }
   },
   "id": "31f27000ea16e5",
   "execution_count": 7
  },
  {
   "cell_type": "markdown",
   "source": [
    "To Do\n",
    "\n",
    "@Lukas\n",
    ">add additional datafiles to git\n",
    ">Code uit assignment 3 invoegen invoegen\n",
    ">dataframe met benodigde wegen maken\n",
    "> try to merge rmms data with bmms\n",
    "\n",
    "@timon en @fred\n",
    ">htm bestanden uit datafolder inlezen\n",
    ">data uit htm bestand scrapen\n",
    ">pd.read_htm , 5th element is the table\n",
    "> read in all vehicles types\n",
    "> split vehicles into cargo and non-cargo\n",
    "\n",
    "\n",
    "@bram if lukas not succesfull try via aggregating\n",
    ">combine bridge df and traffic flow df (via chainage)\n",
    "\n",
    "\n",
    "\n",
    "Hoe moet het er uiteindelijk uit zien?\n",
    ">criticality: simple traffic flow (broken down into Heavy Truck, Medium Truck, Small Truck)\n",
    "> vulnerability: quality col from bmms df + bridge length\n",
    "> Quality ordinal variable, bridge length\n",
    "\n",
    "\n",
    "Outputs/ plot:\n",
    ">choropleths of traffic flow data\n",
    "> \n"
   ],
   "metadata": {
    "collapsed": false
   },
   "id": "5edf7ce39c70b50e"
  },
  {
   "cell_type": "markdown",
   "source": [
    "First, let us define a function to find the RMMS folder location."
   ],
   "metadata": {
    "collapsed": false
   },
   "id": "974a261be3193688"
  },
  {
   "cell_type": "code",
   "outputs": [],
   "source": [
    "def get_rmms_relative_path():\n",
    "    # Get the current working directory\n",
    "    current_directory = os.getcwd()\n",
    "\n",
    "    # Navigate one folder up\n",
    "    parent_directory = os.path.abspath(os.path.join(current_directory, os.pardir))\n",
    "\n",
    "    # Go inside the \"data\" folder\n",
    "    data_folder = os.path.join(parent_directory, 'data')\n",
    "\n",
    "    # Go inside the \"RMMS\" folder\n",
    "    rmms_folder = os.path.join(data_folder, 'RMMS')\n",
    "\n",
    "    # Print the relative path\n",
    "    relative_path = os.path.relpath(rmms_folder, start=current_directory)\n",
    "    \n",
    "    return relative_path\n"
   ],
   "metadata": {
    "collapsed": false,
    "ExecuteTime": {
     "end_time": "2024-03-27T11:24:02.647335500Z",
     "start_time": "2024-03-27T11:24:02.639708300Z"
    }
   },
   "id": "d5c6f3024f395a0",
   "execution_count": 8
  },
  {
   "cell_type": "code",
   "execution_count": 9,
   "outputs": [
    {
     "name": "stdout",
     "output_type": "stream",
     "text": [
      "..\\data\\RMMS\n"
     ]
    }
   ],
   "source": [
    "# Test for the correct folder:\n",
    "relative_path_to_rmms = get_rmms_relative_path()\n",
    "print(relative_path_to_rmms)"
   ],
   "metadata": {
    "collapsed": false,
    "ExecuteTime": {
     "end_time": "2024-03-27T11:24:04.684282400Z",
     "start_time": "2024-03-27T11:24:04.675432900Z"
    }
   },
   "id": "f4ff5940f1a98b"
  },
  {
   "cell_type": "code",
   "execution_count": 10,
   "outputs": [],
   "source": [
    "def read_htm_file(folder_path, file_name):\n",
    "    # Construct the full path to the HTM file\n",
    "    file_path = os.path.join(folder_path, file_name)\n",
    "    \n",
    "    # Read the HTM file and extract components of the file\n",
    "    components = pd.read_html(file_path)\n",
    "    \n",
    "    # Assuming the table we want is the fifth one, access the fourth index\n",
    "    desired_table = components[4]\n",
    "    \n",
    "    # Now return with the desired_table DataFrame\n",
    "    return desired_table"
   ],
   "metadata": {
    "collapsed": false,
    "ExecuteTime": {
     "end_time": "2024-03-27T11:28:01.755790500Z",
     "start_time": "2024-03-27T11:28:01.734674Z"
    }
   },
   "id": "27a5d164c3b57457"
  },
  {
   "cell_type": "code",
   "execution_count": 12,
   "outputs": [
    {
     "data": {
      "text/plain": "                                           0   \\\n0    List of links of N1 (  what is a link  )   \n1                                     Link no   \n2                                         NaN   \n3                                       N1-1L   \n4                                       N1-1R   \n..                                        ...   \n103                                     N1-65   \n104                                     N1-66   \n105                                     N1-67   \n106                                     N1-68   \n107                                     N1-69   \n\n                                            1   \\\n0     List of links of N1 (  what is a link  )   \n1                                         Name   \n2                                          NaN   \n3     Jatrabari - Int.with Z1101 (Left) (Left)   \n4    Jatrabari - Int.with Z1101 (Left) (Right)   \n..                                         ...   \n103     Coxsbazar Link Road N110-Maricha Z1009   \n104        Maricha Z1009-Ukhia Dakbanglo Z1503   \n105       Ukhia Dakbanglo Z1503 - Gundum Z1504   \n106         GundumGundum Z1504 - Whykong Z1133   \n107                     Whykong Z1133 - Teknaf   \n\n                                           2   \\\n0    List of links of N1 (  what is a link  )   \n1                              Start location   \n2                                         LRP   \n3                                        LRPS   \n4                                        LRPS   \n..                                        ...   \n103                                    LRP386   \n104                                    LRP403   \n105                                    LRP413   \n106                                    LRP420   \n107                                    LRP433   \n\n                                           3   \\\n0    List of links of N1 (  what is a link  )   \n1                              Start location   \n2                                      Offset   \n3                                           0   \n4                                           0   \n..                                        ...   \n103                                       724   \n104                                       217   \n105                                       300   \n106                                       900   \n107                                       521   \n\n                                           4   \\\n0    List of links of N1 (  what is a link  )   \n1                              Start location   \n2                                    Chainage   \n3                                           0   \n4                                           0   \n..                                        ...   \n103                                   381.481   \n104                                   398.205   \n105                                   408.434   \n106                                   416.044   \n107                                   428.908   \n\n                                           5   \\\n0    List of links of N1 (  what is a link  )   \n1                                End location   \n2                                         LRP   \n3                                        LRPS   \n4                                        LRPS   \n..                                        ...   \n103                                    LRP403   \n104                                    LRP413   \n105                                    LRP420   \n106                                    LRP433   \n107                                    LRP467   \n\n                                           6   \\\n0    List of links of N1 (  what is a link  )   \n1                                End location   \n2                                      Offset   \n3                                         822   \n4                                         822   \n..                                        ...   \n103                                       217   \n104                                       300   \n105                                       900   \n106                                       521   \n107                                       130   \n\n                                           7   \\\n0    List of links of N1 (  what is a link  )   \n1                                End location   \n2                                    Chainage   \n3                                       0.822   \n4                                       0.822   \n..                                        ...   \n103                                   398.205   \n104                                   408.434   \n105                                   416.044   \n106                                   428.908   \n107                                   462.254   \n\n                                           8   \\\n0    List of links of N1 (  what is a link  )   \n1                                      Length   \n2                                        (Km)   \n3                                       0.822   \n4                                       0.822   \n..                                        ...   \n103                                    16.724   \n104                                    10.229   \n105                                     7.610   \n106                                    12.864   \n107                                    33.346   \n\n                                           9   ...  \\\n0    List of links of N1 (  what is a link  )  ...   \n1                                Traffic Data  ...   \n2                                 Heavy Truck  ...   \n3                                       402.0  ...   \n4                                       660.0  ...   \n..                                        ...  ...   \n103                                      24.0  ...   \n104                                      24.0  ...   \n105                                      24.0  ...   \n106                                      24.0  ...   \n107                                      24.0  ...   \n\n                                           16  \\\n0    List of links of N1 (  what is a link  )   \n1                                Traffic Data   \n2                                         Car   \n3                                      1851.0   \n4                                      2608.0   \n..                                        ...   \n103                                     142.0   \n104                                     142.0   \n105                                     142.0   \n106                                     142.0   \n107                                     142.0   \n\n                                           17  \\\n0    List of links of N1 (  what is a link  )   \n1                                Traffic Data   \n2                               Auto Rickshaw   \n3                                      2980.0   \n4                                      2508.0   \n..                                        ...   \n103                                    2476.0   \n104                                    2476.0   \n105                                    2476.0   \n106                                    2476.0   \n107                                    2476.0   \n\n                                           18  \\\n0    List of links of N1 (  what is a link  )   \n1                                Traffic Data   \n2                                 Motor Cycle   \n3                                       398.0   \n4                                       436.0   \n..                                        ...   \n103                                     419.0   \n104                                     419.0   \n105                                     419.0   \n106                                     419.0   \n107                                     419.0   \n\n                                           19  \\\n0    List of links of N1 (  what is a link  )   \n1                                Traffic Data   \n2                                    Bi-Cycle   \n3                                       232.0   \n4                                       213.0   \n..                                        ...   \n103                                      97.0   \n104                                      97.0   \n105                                      97.0   \n106                                      97.0   \n107                                      97.0   \n\n                                           20  \\\n0    List of links of N1 (  what is a link  )   \n1                                Traffic Data   \n2                              Cycle Rickshaw   \n3                                       889.0   \n4                                      1088.0   \n..                                        ...   \n103                                    1042.0   \n104                                    1042.0   \n105                                    1042.0   \n106                                    1042.0   \n107                                    1042.0   \n\n                                           21  \\\n0    List of links of N1 (  what is a link  )   \n1                                Traffic Data   \n2                                        Cart   \n3                                         0.0   \n4                                         0.0   \n..                                        ...   \n103                                       0.0   \n104                                       0.0   \n105                                       0.0   \n106                                       0.0   \n107                                       0.0   \n\n                                           22  \\\n0    List of links of N1 (  what is a link  )   \n1                                       Total   \n2                                   Motorized   \n3                                     18236.0   \n4                                     20236.0   \n..                                        ...   \n103                                    4681.0   \n104                                    4681.0   \n105                                    4681.0   \n106                                    4681.0   \n107                                    4681.0   \n\n                                           23  \\\n0    List of links of N1 (  what is a link  )   \n1                                       Total   \n2                               Non Motorized   \n3                                      1121.0   \n4                                      1301.0   \n..                                        ...   \n103                                    1139.0   \n104                                    1139.0   \n105                                    1139.0   \n106                                    1139.0   \n107                                    1139.0   \n\n                                           24  \\\n0    List of links of N1 (  what is a link  )   \n1                                       Total   \n2                                  Total AADT   \n3                                     19357.0   \n4                                     21537.0   \n..                                        ...   \n103                                    5820.0   \n104                                    5820.0   \n105                                    5820.0   \n106                                    5820.0   \n107                                    5820.0   \n\n                                           25  \n0    List of links of N1 (  what is a link  )  \n1                                     Traffic  \n2                                      (AADT)  \n3                                     19357.0  \n4                                     21537.0  \n..                                        ...  \n103                                    5820.0  \n104                                    5820.0  \n105                                    5820.0  \n106                                    5820.0  \n107                                    5820.0  \n\n[108 rows x 26 columns]",
      "text/html": "<div>\n<style scoped>\n    .dataframe tbody tr th:only-of-type {\n        vertical-align: middle;\n    }\n\n    .dataframe tbody tr th {\n        vertical-align: top;\n    }\n\n    .dataframe thead th {\n        text-align: right;\n    }\n</style>\n<table border=\"1\" class=\"dataframe\">\n  <thead>\n    <tr style=\"text-align: right;\">\n      <th></th>\n      <th>0</th>\n      <th>1</th>\n      <th>2</th>\n      <th>3</th>\n      <th>4</th>\n      <th>5</th>\n      <th>6</th>\n      <th>7</th>\n      <th>8</th>\n      <th>9</th>\n      <th>...</th>\n      <th>16</th>\n      <th>17</th>\n      <th>18</th>\n      <th>19</th>\n      <th>20</th>\n      <th>21</th>\n      <th>22</th>\n      <th>23</th>\n      <th>24</th>\n      <th>25</th>\n    </tr>\n  </thead>\n  <tbody>\n    <tr>\n      <th>0</th>\n      <td>List of links of N1 (  what is a link  )</td>\n      <td>List of links of N1 (  what is a link  )</td>\n      <td>List of links of N1 (  what is a link  )</td>\n      <td>List of links of N1 (  what is a link  )</td>\n      <td>List of links of N1 (  what is a link  )</td>\n      <td>List of links of N1 (  what is a link  )</td>\n      <td>List of links of N1 (  what is a link  )</td>\n      <td>List of links of N1 (  what is a link  )</td>\n      <td>List of links of N1 (  what is a link  )</td>\n      <td>List of links of N1 (  what is a link  )</td>\n      <td>...</td>\n      <td>List of links of N1 (  what is a link  )</td>\n      <td>List of links of N1 (  what is a link  )</td>\n      <td>List of links of N1 (  what is a link  )</td>\n      <td>List of links of N1 (  what is a link  )</td>\n      <td>List of links of N1 (  what is a link  )</td>\n      <td>List of links of N1 (  what is a link  )</td>\n      <td>List of links of N1 (  what is a link  )</td>\n      <td>List of links of N1 (  what is a link  )</td>\n      <td>List of links of N1 (  what is a link  )</td>\n      <td>List of links of N1 (  what is a link  )</td>\n    </tr>\n    <tr>\n      <th>1</th>\n      <td>Link no</td>\n      <td>Name</td>\n      <td>Start location</td>\n      <td>Start location</td>\n      <td>Start location</td>\n      <td>End location</td>\n      <td>End location</td>\n      <td>End location</td>\n      <td>Length</td>\n      <td>Traffic Data</td>\n      <td>...</td>\n      <td>Traffic Data</td>\n      <td>Traffic Data</td>\n      <td>Traffic Data</td>\n      <td>Traffic Data</td>\n      <td>Traffic Data</td>\n      <td>Traffic Data</td>\n      <td>Total</td>\n      <td>Total</td>\n      <td>Total</td>\n      <td>Traffic</td>\n    </tr>\n    <tr>\n      <th>2</th>\n      <td>NaN</td>\n      <td>NaN</td>\n      <td>LRP</td>\n      <td>Offset</td>\n      <td>Chainage</td>\n      <td>LRP</td>\n      <td>Offset</td>\n      <td>Chainage</td>\n      <td>(Km)</td>\n      <td>Heavy Truck</td>\n      <td>...</td>\n      <td>Car</td>\n      <td>Auto Rickshaw</td>\n      <td>Motor Cycle</td>\n      <td>Bi-Cycle</td>\n      <td>Cycle Rickshaw</td>\n      <td>Cart</td>\n      <td>Motorized</td>\n      <td>Non Motorized</td>\n      <td>Total AADT</td>\n      <td>(AADT)</td>\n    </tr>\n    <tr>\n      <th>3</th>\n      <td>N1-1L</td>\n      <td>Jatrabari - Int.with Z1101 (Left) (Left)</td>\n      <td>LRPS</td>\n      <td>0</td>\n      <td>0</td>\n      <td>LRPS</td>\n      <td>822</td>\n      <td>0.822</td>\n      <td>0.822</td>\n      <td>402.0</td>\n      <td>...</td>\n      <td>1851.0</td>\n      <td>2980.0</td>\n      <td>398.0</td>\n      <td>232.0</td>\n      <td>889.0</td>\n      <td>0.0</td>\n      <td>18236.0</td>\n      <td>1121.0</td>\n      <td>19357.0</td>\n      <td>19357.0</td>\n    </tr>\n    <tr>\n      <th>4</th>\n      <td>N1-1R</td>\n      <td>Jatrabari - Int.with Z1101 (Left) (Right)</td>\n      <td>LRPS</td>\n      <td>0</td>\n      <td>0</td>\n      <td>LRPS</td>\n      <td>822</td>\n      <td>0.822</td>\n      <td>0.822</td>\n      <td>660.0</td>\n      <td>...</td>\n      <td>2608.0</td>\n      <td>2508.0</td>\n      <td>436.0</td>\n      <td>213.0</td>\n      <td>1088.0</td>\n      <td>0.0</td>\n      <td>20236.0</td>\n      <td>1301.0</td>\n      <td>21537.0</td>\n      <td>21537.0</td>\n    </tr>\n    <tr>\n      <th>...</th>\n      <td>...</td>\n      <td>...</td>\n      <td>...</td>\n      <td>...</td>\n      <td>...</td>\n      <td>...</td>\n      <td>...</td>\n      <td>...</td>\n      <td>...</td>\n      <td>...</td>\n      <td>...</td>\n      <td>...</td>\n      <td>...</td>\n      <td>...</td>\n      <td>...</td>\n      <td>...</td>\n      <td>...</td>\n      <td>...</td>\n      <td>...</td>\n      <td>...</td>\n      <td>...</td>\n    </tr>\n    <tr>\n      <th>103</th>\n      <td>N1-65</td>\n      <td>Coxsbazar Link Road N110-Maricha Z1009</td>\n      <td>LRP386</td>\n      <td>724</td>\n      <td>381.481</td>\n      <td>LRP403</td>\n      <td>217</td>\n      <td>398.205</td>\n      <td>16.724</td>\n      <td>24.0</td>\n      <td>...</td>\n      <td>142.0</td>\n      <td>2476.0</td>\n      <td>419.0</td>\n      <td>97.0</td>\n      <td>1042.0</td>\n      <td>0.0</td>\n      <td>4681.0</td>\n      <td>1139.0</td>\n      <td>5820.0</td>\n      <td>5820.0</td>\n    </tr>\n    <tr>\n      <th>104</th>\n      <td>N1-66</td>\n      <td>Maricha Z1009-Ukhia Dakbanglo Z1503</td>\n      <td>LRP403</td>\n      <td>217</td>\n      <td>398.205</td>\n      <td>LRP413</td>\n      <td>300</td>\n      <td>408.434</td>\n      <td>10.229</td>\n      <td>24.0</td>\n      <td>...</td>\n      <td>142.0</td>\n      <td>2476.0</td>\n      <td>419.0</td>\n      <td>97.0</td>\n      <td>1042.0</td>\n      <td>0.0</td>\n      <td>4681.0</td>\n      <td>1139.0</td>\n      <td>5820.0</td>\n      <td>5820.0</td>\n    </tr>\n    <tr>\n      <th>105</th>\n      <td>N1-67</td>\n      <td>Ukhia Dakbanglo Z1503 - Gundum Z1504</td>\n      <td>LRP413</td>\n      <td>300</td>\n      <td>408.434</td>\n      <td>LRP420</td>\n      <td>900</td>\n      <td>416.044</td>\n      <td>7.610</td>\n      <td>24.0</td>\n      <td>...</td>\n      <td>142.0</td>\n      <td>2476.0</td>\n      <td>419.0</td>\n      <td>97.0</td>\n      <td>1042.0</td>\n      <td>0.0</td>\n      <td>4681.0</td>\n      <td>1139.0</td>\n      <td>5820.0</td>\n      <td>5820.0</td>\n    </tr>\n    <tr>\n      <th>106</th>\n      <td>N1-68</td>\n      <td>GundumGundum Z1504 - Whykong Z1133</td>\n      <td>LRP420</td>\n      <td>900</td>\n      <td>416.044</td>\n      <td>LRP433</td>\n      <td>521</td>\n      <td>428.908</td>\n      <td>12.864</td>\n      <td>24.0</td>\n      <td>...</td>\n      <td>142.0</td>\n      <td>2476.0</td>\n      <td>419.0</td>\n      <td>97.0</td>\n      <td>1042.0</td>\n      <td>0.0</td>\n      <td>4681.0</td>\n      <td>1139.0</td>\n      <td>5820.0</td>\n      <td>5820.0</td>\n    </tr>\n    <tr>\n      <th>107</th>\n      <td>N1-69</td>\n      <td>Whykong Z1133 - Teknaf</td>\n      <td>LRP433</td>\n      <td>521</td>\n      <td>428.908</td>\n      <td>LRP467</td>\n      <td>130</td>\n      <td>462.254</td>\n      <td>33.346</td>\n      <td>24.0</td>\n      <td>...</td>\n      <td>142.0</td>\n      <td>2476.0</td>\n      <td>419.0</td>\n      <td>97.0</td>\n      <td>1042.0</td>\n      <td>0.0</td>\n      <td>4681.0</td>\n      <td>1139.0</td>\n      <td>5820.0</td>\n      <td>5820.0</td>\n    </tr>\n  </tbody>\n</table>\n<p>108 rows × 26 columns</p>\n</div>"
     },
     "execution_count": 12,
     "metadata": {},
     "output_type": "execute_result"
    }
   ],
   "source": [
    "# Read first htm from the folder\n",
    "lukasdf = read_htm_file(relative_path_to_rmms, \"N1.traffic.htm\")\n",
    "lukasdf"
   ],
   "metadata": {
    "collapsed": false,
    "ExecuteTime": {
     "end_time": "2024-03-27T11:29:29.013176800Z",
     "start_time": "2024-03-27T11:29:28.801699700Z"
    }
   },
   "id": "65a8fa4d246bc3b0"
  }
 ],
 "metadata": {
  "kernelspec": {
   "display_name": "Python 3",
   "language": "python",
   "name": "python3"
  },
  "language_info": {
   "codemirror_mode": {
    "name": "ipython",
    "version": 2
   },
   "file_extension": ".py",
   "mimetype": "text/x-python",
   "name": "python",
   "nbconvert_exporter": "python",
   "pygments_lexer": "ipython2",
   "version": "2.7.6"
  }
 },
 "nbformat": 4,
 "nbformat_minor": 5
}
