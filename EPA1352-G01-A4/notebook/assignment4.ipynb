{
 "cells": [
  {
   "cell_type": "code",
   "outputs": [],
   "source": [
    "import folium\n",
    "\n",
    "# Coordinates for Bangladesh\n",
    "bd_coordinates = (23.685, 90.356)\n",
    "\n",
    "# Create a map centered around Bangladesh with OpenStreetMap tileset\n",
    "bd_map = folium.Map(location=bd_coordinates, zoom_start=7, tiles='OpenStreetMap')\n",
    "\n",
    "# Custom icon for the bridges\n",
    "icon = folium.Icon(color=\"blue\", icon=\"info-sign\")\n",
    "\n",
    "# Coordinates of important bridges in Bangladesh\n",
    "bridges = {\n",
    "    \"Padma Bridge\": (23.8251, 90.3686),\n",
    "    \"Bangabandhu Bridge\": (24.0794, 89.6529),\n",
    "    \"Jamuna Bridge\": (24.4366, 89.8930),\n",
    "    \"Meghna Bridge\": (23.0238, 90.7287)\n",
    "}\n",
    "\n",
    "# Add markers for each bridge with customized icons\n",
    "for bridge, coords in bridges.items():\n",
    "    folium.Marker(location=coords, popup=bridge, icon=icon).add_to(bd_map)\n",
    "\n",
    "# Display the map\n",
    "bd_map\n",
    "\n"
   ],
   "metadata": {
    "collapsed": false
   },
   "id": "31f27000ea16e5"
  },
  {
   "cell_type": "code",
   "outputs": [
    {
     "name": "stdout",
     "output_type": "stream",
     "text": [
      "Hello world\n"
     ]
    }
   ],
   "source": [
    "print('Hello world')"
   ],
   "metadata": {
    "collapsed": false,
    "ExecuteTime": {
     "end_time": "2024-03-27T10:05:37.670612600Z",
     "start_time": "2024-03-27T10:05:37.662055400Z"
    }
   },
   "id": "713ecd88f0a55cca",
   "execution_count": 2
  },
  {
   "cell_type": "code",
   "outputs": [
    {
     "name": "stdout",
     "output_type": "stream",
     "text": [
      "test\n"
     ]
    }
   ],
   "source": [
    "print('test')"
   ],
   "metadata": {
    "collapsed": false,
    "ExecuteTime": {
     "end_time": "2024-03-27T10:05:42.640190300Z",
     "start_time": "2024-03-27T10:05:42.615057600Z"
    }
   },
   "id": "a83d71c3e6a43804",
   "execution_count": 3
  },
  {
   "cell_type": "markdown",
   "source": [],
   "metadata": {
    "collapsed": false
   },
   "id": "5820f1cfe95c2c64"
  },
  {
   "cell_type": "code",
   "outputs": [],
   "source": [
    "import pandas as pd\n",
    "import matplotlib.pyplot as plt\n",
    "import numpy as pd"
   ],
   "metadata": {
    "collapsed": false,
    "ExecuteTime": {
     "end_time": "2024-03-27T11:10:15.842806300Z",
     "start_time": "2024-03-27T11:10:15.834179100Z"
    }
   },
   "id": "858a708f3a8a3e2b",
   "execution_count": 6
  },
  {
   "cell_type": "markdown",
   "source": [
    "To Do\n",
    "\n",
    "@Lukas\n",
    ">add additional datafiles to git\n",
    ">Code uit assignment 3 invoegen invoegen\n",
    ">dataframe met benodigde wegen maken\n",
    "> try to merge rmms data with bmms\n",
    "\n",
    "@timon en @fred\n",
    ">htm bestanden uit datafolder inlezen\n",
    ">data uit htm bestand scrapen\n",
    ">pd.read_htm , 5th element is the table\n",
    "> read in all vehicles types\n",
    "> split vehicles into cargo and non-cargo\n",
    "\n",
    "\n",
    "@bram if lukas not succesfull try via aggregating\n",
    ">combine bridge df and traffic flow df (via chainage)\n",
    "\n",
    "\n",
    "\n",
    "Hoe moet het er uiteindelijk uit zien?\n",
    ">criticality: simple traffic flow (broken down into Heavy Truck, Medium Truck, Small Truck)\n",
    "> vulnerability: quality col from bmms df + bridge length\n",
    "> Quality ordinal variable, bridge length\n",
    "\n",
    "\n",
    "Outputs/ plot:\n",
    ">choropleths of traffic flow data\n",
    "> \n"
   ],
   "metadata": {
    "collapsed": false
   },
   "id": "5edf7ce39c70b50e"
  },
  {
   "cell_type": "code",
   "outputs": [],
   "source": [],
   "metadata": {
    "collapsed": false
   },
   "id": "d5c6f3024f395a0"
  }
 ],
 "metadata": {
  "kernelspec": {
   "display_name": "Python 3",
   "language": "python",
   "name": "python3"
  },
  "language_info": {
   "codemirror_mode": {
    "name": "ipython",
    "version": 2
   },
   "file_extension": ".py",
   "mimetype": "text/x-python",
   "name": "python",
   "nbconvert_exporter": "python",
   "pygments_lexer": "ipython2",
   "version": "2.7.6"
  }
 },
 "nbformat": 4,
 "nbformat_minor": 5
}
