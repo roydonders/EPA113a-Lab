{
 "cells": [
  {
   "cell_type": "code",
   "outputs": [
    {
     "data": {
      "text/plain": "<folium.folium.Map at 0x1f8faa2d5d0>",
      "text/html": "<div style=\"width:100%;\"><div style=\"position:relative;width:100%;height:0;padding-bottom:60%;\"><span style=\"color:#565656\">Make this Notebook Trusted to load map: File -> Trust Notebook</span><iframe srcdoc=\"&lt;!DOCTYPE html&gt;\n&lt;html&gt;\n&lt;head&gt;\n    \n    &lt;meta http-equiv=&quot;content-type&quot; content=&quot;text/html; charset=UTF-8&quot; /&gt;\n    \n        &lt;script&gt;\n            L_NO_TOUCH = false;\n            L_DISABLE_3D = false;\n        &lt;/script&gt;\n    \n    &lt;style&gt;html, body {width: 100%;height: 100%;margin: 0;padding: 0;}&lt;/style&gt;\n    &lt;style&gt;#map {position:absolute;top:0;bottom:0;right:0;left:0;}&lt;/style&gt;\n    &lt;script src=&quot;https://cdn.jsdelivr.net/npm/leaflet@1.9.3/dist/leaflet.js&quot;&gt;&lt;/script&gt;\n    &lt;script src=&quot;https://code.jquery.com/jquery-3.7.1.min.js&quot;&gt;&lt;/script&gt;\n    &lt;script src=&quot;https://cdn.jsdelivr.net/npm/bootstrap@5.2.2/dist/js/bootstrap.bundle.min.js&quot;&gt;&lt;/script&gt;\n    &lt;script src=&quot;https://cdnjs.cloudflare.com/ajax/libs/Leaflet.awesome-markers/2.0.2/leaflet.awesome-markers.js&quot;&gt;&lt;/script&gt;\n    &lt;link rel=&quot;stylesheet&quot; href=&quot;https://cdn.jsdelivr.net/npm/leaflet@1.9.3/dist/leaflet.css&quot;/&gt;\n    &lt;link rel=&quot;stylesheet&quot; href=&quot;https://cdn.jsdelivr.net/npm/bootstrap@5.2.2/dist/css/bootstrap.min.css&quot;/&gt;\n    &lt;link rel=&quot;stylesheet&quot; href=&quot;https://netdna.bootstrapcdn.com/bootstrap/3.0.0/css/bootstrap.min.css&quot;/&gt;\n    &lt;link rel=&quot;stylesheet&quot; href=&quot;https://cdn.jsdelivr.net/npm/@fortawesome/fontawesome-free@6.2.0/css/all.min.css&quot;/&gt;\n    &lt;link rel=&quot;stylesheet&quot; href=&quot;https://cdnjs.cloudflare.com/ajax/libs/Leaflet.awesome-markers/2.0.2/leaflet.awesome-markers.css&quot;/&gt;\n    &lt;link rel=&quot;stylesheet&quot; href=&quot;https://cdn.jsdelivr.net/gh/python-visualization/folium/folium/templates/leaflet.awesome.rotate.min.css&quot;/&gt;\n    \n            &lt;meta name=&quot;viewport&quot; content=&quot;width=device-width,\n                initial-scale=1.0, maximum-scale=1.0, user-scalable=no&quot; /&gt;\n            &lt;style&gt;\n                #map_222eb655cddd04afb56e0ef7a53fb966 {\n                    position: relative;\n                    width: 100.0%;\n                    height: 100.0%;\n                    left: 0.0%;\n                    top: 0.0%;\n                }\n                .leaflet-container { font-size: 1rem; }\n            &lt;/style&gt;\n        \n&lt;/head&gt;\n&lt;body&gt;\n    \n    \n            &lt;div class=&quot;folium-map&quot; id=&quot;map_222eb655cddd04afb56e0ef7a53fb966&quot; &gt;&lt;/div&gt;\n        \n&lt;/body&gt;\n&lt;script&gt;\n    \n    \n            var map_222eb655cddd04afb56e0ef7a53fb966 = L.map(\n                &quot;map_222eb655cddd04afb56e0ef7a53fb966&quot;,\n                {\n                    center: [23.685, 90.356],\n                    crs: L.CRS.EPSG3857,\n                    zoom: 7,\n                    zoomControl: true,\n                    preferCanvas: false,\n                }\n            );\n\n            \n\n        \n    \n            var tile_layer_a92e0509a20cebcad8d3b203babd98e7 = L.tileLayer(\n                &quot;https://tile.openstreetmap.org/{z}/{x}/{y}.png&quot;,\n                {&quot;attribution&quot;: &quot;\\u0026copy; \\u003ca href=\\&quot;https://www.openstreetmap.org/copyright\\&quot;\\u003eOpenStreetMap\\u003c/a\\u003e contributors&quot;, &quot;detectRetina&quot;: false, &quot;maxNativeZoom&quot;: 19, &quot;maxZoom&quot;: 19, &quot;minZoom&quot;: 0, &quot;noWrap&quot;: false, &quot;opacity&quot;: 1, &quot;subdomains&quot;: &quot;abc&quot;, &quot;tms&quot;: false}\n            );\n        \n    \n            tile_layer_a92e0509a20cebcad8d3b203babd98e7.addTo(map_222eb655cddd04afb56e0ef7a53fb966);\n        \n    \n            var marker_6be7832ae49d907f262eabc21b6bc303 = L.marker(\n                [23.8251, 90.3686],\n                {}\n            ).addTo(map_222eb655cddd04afb56e0ef7a53fb966);\n        \n    \n            var icon_d600c762dfb3f15ecb535970b06ac6bb = L.AwesomeMarkers.icon(\n                {&quot;extraClasses&quot;: &quot;fa-rotate-0&quot;, &quot;icon&quot;: &quot;info-sign&quot;, &quot;iconColor&quot;: &quot;white&quot;, &quot;markerColor&quot;: &quot;blue&quot;, &quot;prefix&quot;: &quot;glyphicon&quot;}\n            );\n            marker_eee050b30119b266f97680b3c74ce97f.setIcon(icon_d600c762dfb3f15ecb535970b06ac6bb);\n        \n    \n        var popup_b14d089065abe9df9e4650b34b886b55 = L.popup({&quot;maxWidth&quot;: &quot;100%&quot;});\n\n        \n            \n                var html_887c23af7a09b796eca2f426b0729407 = $(`&lt;div id=&quot;html_887c23af7a09b796eca2f426b0729407&quot; style=&quot;width: 100.0%; height: 100.0%;&quot;&gt;Padma Bridge&lt;/div&gt;`)[0];\n                popup_b14d089065abe9df9e4650b34b886b55.setContent(html_887c23af7a09b796eca2f426b0729407);\n            \n        \n\n        marker_6be7832ae49d907f262eabc21b6bc303.bindPopup(popup_b14d089065abe9df9e4650b34b886b55)\n        ;\n\n        \n    \n    \n            var marker_53231ae2f03a4a146f4e5c2d0da64d2c = L.marker(\n                [24.0794, 89.6529],\n                {}\n            ).addTo(map_222eb655cddd04afb56e0ef7a53fb966);\n        \n    \n        var popup_ca1f02304e10f5f6ee1b2b71d5306dbb = L.popup({&quot;maxWidth&quot;: &quot;100%&quot;});\n\n        \n            \n                var html_b66780f2f5e80045651ce868ad771930 = $(`&lt;div id=&quot;html_b66780f2f5e80045651ce868ad771930&quot; style=&quot;width: 100.0%; height: 100.0%;&quot;&gt;Bangabandhu Bridge&lt;/div&gt;`)[0];\n                popup_ca1f02304e10f5f6ee1b2b71d5306dbb.setContent(html_b66780f2f5e80045651ce868ad771930);\n            \n        \n\n        marker_53231ae2f03a4a146f4e5c2d0da64d2c.bindPopup(popup_ca1f02304e10f5f6ee1b2b71d5306dbb)\n        ;\n\n        \n    \n    \n            var marker_57cff3798d103f43e305c73779d93428 = L.marker(\n                [24.4366, 89.893],\n                {}\n            ).addTo(map_222eb655cddd04afb56e0ef7a53fb966);\n        \n    \n        var popup_da544d907aa7b607e0ab74f01550acee = L.popup({&quot;maxWidth&quot;: &quot;100%&quot;});\n\n        \n            \n                var html_6d703b6b27ae11468edba7c556f7b845 = $(`&lt;div id=&quot;html_6d703b6b27ae11468edba7c556f7b845&quot; style=&quot;width: 100.0%; height: 100.0%;&quot;&gt;Jamuna Bridge&lt;/div&gt;`)[0];\n                popup_da544d907aa7b607e0ab74f01550acee.setContent(html_6d703b6b27ae11468edba7c556f7b845);\n            \n        \n\n        marker_57cff3798d103f43e305c73779d93428.bindPopup(popup_da544d907aa7b607e0ab74f01550acee)\n        ;\n\n        \n    \n    \n            var marker_eee050b30119b266f97680b3c74ce97f = L.marker(\n                [23.0238, 90.7287],\n                {}\n            ).addTo(map_222eb655cddd04afb56e0ef7a53fb966);\n        \n    \n        var popup_ed46f04a0fe3d44f52bc874939e32273 = L.popup({&quot;maxWidth&quot;: &quot;100%&quot;});\n\n        \n            \n                var html_93ec27a7005e17331f6dbe2112455e12 = $(`&lt;div id=&quot;html_93ec27a7005e17331f6dbe2112455e12&quot; style=&quot;width: 100.0%; height: 100.0%;&quot;&gt;Meghna Bridge&lt;/div&gt;`)[0];\n                popup_ed46f04a0fe3d44f52bc874939e32273.setContent(html_93ec27a7005e17331f6dbe2112455e12);\n            \n        \n\n        marker_eee050b30119b266f97680b3c74ce97f.bindPopup(popup_ed46f04a0fe3d44f52bc874939e32273)\n        ;\n\n        \n    \n&lt;/script&gt;\n&lt;/html&gt;\" style=\"position:absolute;width:100%;height:100%;left:0;top:0;border:none !important;\" allowfullscreen webkitallowfullscreen mozallowfullscreen></iframe></div></div>"
     },
     "execution_count": 7,
     "metadata": {},
     "output_type": "execute_result"
    }
   ],
   "source": [
    "import folium\n",
    "import os\n",
    "import pandas as pd\n",
    "import matplotlib.pyplot as plt\n",
    "import numpy as np\n",
    "\n",
    "# Sample code\n",
    "# Coordinates for Bangladesh\n",
    "bd_coordinates = (23.685, 90.356)\n",
    "\n",
    "# Create a map centered around Bangladesh with OpenStreetMap tileset\n",
    "bd_map = folium.Map(location=bd_coordinates, zoom_start=7, tiles='OpenStreetMap')\n",
    "\n",
    "# Custom icon for the bridges\n",
    "icon = folium.Icon(color=\"blue\", icon=\"info-sign\")\n",
    "\n",
    "# Coordinates of important bridges in Bangladesh\n",
    "bridges = {\n",
    "    \"Padma Bridge\": (23.8251, 90.3686),\n",
    "    \"Bangabandhu Bridge\": (24.0794, 89.6529),\n",
    "    \"Jamuna Bridge\": (24.4366, 89.8930),\n",
    "    \"Meghna Bridge\": (23.0238, 90.7287)\n",
    "}\n",
    "\n",
    "# Add markers for each bridge with customized icons\n",
    "for bridge, coords in bridges.items():\n",
    "    folium.Marker(location=coords, popup=bridge, icon=icon).add_to(bd_map)\n",
    "\n",
    "# Display the map\n",
    "bd_map\n",
    "\n"
   ],
   "metadata": {
    "collapsed": false,
    "ExecuteTime": {
     "end_time": "2024-03-27T11:23:53.306674400Z",
     "start_time": "2024-03-27T11:23:51.319571200Z"
    }
   },
   "id": "31f27000ea16e5",
   "execution_count": 7
  },
  {
   "cell_type": "markdown",
   "source": [
    "To Do\n",
    "\n",
    "@Lukas\n",
    ">add additional datafiles to git\n",
    ">Code uit assignment 3 invoegen invoegen\n",
    ">dataframe met benodigde wegen maken\n",
    "> try to merge rmms data with bmms\n",
    "\n",
    "@timon en @fred\n",
    ">htm bestanden uit datafolder inlezen\n",
    ">data uit htm bestand scrapen\n",
    ">pd.read_htm , 5th element is the table\n",
    "> read in all vehicles types\n",
    "> split vehicles into cargo and non-cargo\n",
    "\n",
    "\n",
    "@bram if lukas not succesfull try via aggregating\n",
    ">combine bridge df and traffic flow df (via chainage)\n",
    "\n",
    "\n",
    "\n",
    "Hoe moet het er uiteindelijk uit zien?\n",
    ">criticality: simple traffic flow (broken down into Heavy Truck, Medium Truck, Small Truck)\n",
    "> vulnerability: quality col from bmms df + bridge length\n",
    "> Quality ordinal variable, bridge length\n",
    "\n",
    "\n",
    "Outputs/ plot:\n",
    ">choropleths of traffic flow data\n",
    "> \n"
   ],
   "metadata": {
    "collapsed": false
   },
   "id": "5edf7ce39c70b50e"
  },
  {
   "cell_type": "markdown",
   "source": [
    "First, let us define a function to find the RMMS folder location."
   ],
   "metadata": {
    "collapsed": false
   },
   "id": "974a261be3193688"
  },
  {
   "cell_type": "code",
   "outputs": [],
   "source": [
    "def get_rmms_relative_path():\n",
    "    # Get the current working directory\n",
    "    current_directory = os.getcwd()\n",
    "\n",
    "    # Navigate one folder up\n",
    "    parent_directory = os.path.abspath(os.path.join(current_directory, os.pardir))\n",
    "\n",
    "    # Go inside the \"data\" folder\n",
    "    data_folder = os.path.join(parent_directory, 'data')\n",
    "\n",
    "    # Go inside the \"RMMS\" folder\n",
    "    rmms_folder = os.path.join(data_folder, 'RMMS')\n",
    "\n",
    "    # Print the relative path\n",
    "    relative_path = os.path.relpath(rmms_folder, start=current_directory)\n",
    "    \n",
    "    return relative_path\n"
   ],
   "metadata": {
    "collapsed": false,
    "ExecuteTime": {
     "end_time": "2024-03-27T11:24:02.647335500Z",
     "start_time": "2024-03-27T11:24:02.639708300Z"
    }
   },
   "id": "d5c6f3024f395a0",
   "execution_count": 8
  },
  {
   "cell_type": "code",
   "execution_count": 9,
   "outputs": [
    {
     "name": "stdout",
     "output_type": "stream",
     "text": [
      "..\\data\\RMMS\n"
     ]
    }
   ],
   "source": [
    "# Example usage:\n",
    "relative_path_to_rmms = get_rmms_relative_path()\n",
    "print(relative_path_to_rmms)"
   ],
   "metadata": {
    "collapsed": false,
    "ExecuteTime": {
     "end_time": "2024-03-27T11:24:04.684282400Z",
     "start_time": "2024-03-27T11:24:04.675432900Z"
    }
   },
   "id": "f4ff5940f1a98b"
  }
 ],
 "metadata": {
  "kernelspec": {
   "display_name": "Python 3",
   "language": "python",
   "name": "python3"
  },
  "language_info": {
   "codemirror_mode": {
    "name": "ipython",
    "version": 2
   },
   "file_extension": ".py",
   "mimetype": "text/x-python",
   "name": "python",
   "nbconvert_exporter": "python",
   "pygments_lexer": "ipython2",
   "version": "2.7.6"
  }
 },
 "nbformat": 4,
 "nbformat_minor": 5
}
